{
 "cells": [
  {
   "cell_type": "code",
   "execution_count": null,
   "id": "ac0a9653",
   "metadata": {},
   "outputs": [],
   "source": [
    "max_num_hands = 5\t# 최대 몇 개의 손을 인식할 건지 정의\n",
    "gesture = {\t\t# fy 클래스 정의\n",
    "    0: 'fist', 1: 'one', 2: 'two', 3: 'three', 4: 'four', 5: 'five',\n",
    "    6: 'six', 7: 'rock', 8: 'spiderman', 9: 'yeah', 10: 'ok', 11: 'fy'\n",
    "}"
   ]
  },
  {
   "cell_type": "code",
   "execution_count": null,
   "id": "9901bf7b",
   "metadata": {},
   "outputs": [],
   "source": [
    "# 영상에서 손가락 뼈 마디 부분(연두색 선, 빨간점)을 그릴 수 있도록 도와주는 것\n",
    "mp_hands = mp.solutions.hands\n",
    "mp_drawing = mp.solutions.drawing_utils\n",
    "# 손가락 detection 모듈 초기화\n",
    "hands = mp_hands.Hands(\n",
    "    max_num_hands=max_num_hands,  # 최대 몇 개의 손을 인식할건지 정의\n",
    "    min_detection_confidence=0.5, # 0.5로 해두는게 좋음\n",
    "    min_tracking_confidence=0.5)"
   ]
  },
  {
   "cell_type": "code",
   "execution_count": null,
   "id": "e10fa048",
   "metadata": {},
   "outputs": [],
   "source": [
    "file = np.genfromtxt('data/gesture_train_fy.csv', delimiter=',') # data file\n",
    "angle = file[:,:-1].astype(np.float32)\n",
    "label = file[:, -1].astype(np.float32)\n",
    "knn = cv2.ml.KNearest_create() # K-Nearest Neighbors 알고리즘(K-최근접 알고리즘)\n",
    "knn.train(angle, cv2.ml.ROW_SAMPLE, label) # 학습 시키기"
   ]
  },
  {
   "cell_type": "code",
   "execution_count": null,
   "id": "f66793ba",
   "metadata": {},
   "outputs": [],
   "source": [
    "cap = cv2.VideoCapture(0) \t# 웹캠의 이미지 읽어옴\n",
    "while cap.isOpened():\n",
    "    ret, img = cap.read() \t# 한 프레임씩 이미지 읽어옴\n",
    "    if not ret:\n",
    "        continue\n",
    "    # 전처리 (opencv: BGR, mediapipe: RGB)\n",
    "    img = cv2.flip(img, 1) \t# 이미지 좌우 반전\n",
    "    img = cv2.cvtColor(img, cv2.COLOR_BGR2RGB)\n",
    "    # 전처리 된 이미지\n",
    "    result = hands.process(img) # 전처리 및 모델 추론을 함께 실행함\n",
    "    img = cv2.cvtColor(img, cv2.COLOR_RGB2BGR) # 이미지 출력을 위해 다시 바꿔줌"
   ]
  },
  {
   "cell_type": "code",
   "execution_count": null,
   "id": "424f569a",
   "metadata": {},
   "outputs": [],
   "source": [
    "    if result.multi_hand_landmarks is not None: # 만약 손을 인식했다면\n",
    "        for res in result.multi_hand_landmarks: # 여러 개의 손을 인식할 수 있기 때문에 for문 사용\n",
    "            joint = np.zeros((21, 3)) # joint -> 빨간점, 21개의 joint / 빨간점의 x, y, z 3개의 좌표이므로 3\n",
    "            for j, lm in enumerate(res.landmark):\n",
    "                joint[j] = [lm.x, lm.y, lm.z] # 각 joint 마다 landmark 저장 (landmark의 x, y, z 좌표 저장)\n",
    "            # Compute angles between joints (각 joint 번호의 인덱스 나와있음)\n",
    "            v1 = joint[[0, 1, 2, 3, 0, 5, 6, 7, 0, 9, 10, 11, 0, 13, 14, 15, 0, 17, 18, 19], :] # Parent joint\n",
    "            v2 = joint[[1, 2, 3, 4, 5, 6, 7, 8, 9, 10, 11, 12, 13, 14, 15, 16, 17, 18, 19, 20], :] # Child joint\n",
    "            v = v2 - v1 # [20,3]\n",
    "            # Normalize v\n",
    "            v = v / np.linalg.norm(v, axis=1)[:, np.newaxis] # 길이로 나눠줌 (크키 1짜리 vector 나오게 됨(unit vector))\n",
    "            # Get angle using arcos of dot product (15개의 각도 구하기)\n",
    "            angle = np.arccos(np.einsum('nt,nt->n',\n",
    "                                        v[[0, 1, 2, 4, 5, 6, 8, 9, 10, 12, 13, 14, 16, 17, 18], :],\n",
    "                                        v[[1, 2, 3, 5, 6, 7, 9, 10, 11, 13, 14, 15, 17, 18, 19], :])) # [15,]\n",
    "            # Convert radian to degree\n",
    "            angle = np.degrees(angle) # angle이 radian 값으로 나오기 때문에 degree 값으로 바꿔줌\n",
    "            # Inference gesture\n",
    "            data = np.array([angle], dtype=np.float32)\n",
    "            # print(data)\n",
    "            # data = np.append(data, 11)\n",
    "            ret, results, neighbours, dist = knn.findNearest(data, 3) # k가 3일 때의 값 구함\n",
    "            idx = int(results[0][0])"
   ]
  },
  {
   "cell_type": "code",
   "execution_count": null,
   "id": "08779b4e",
   "metadata": {},
   "outputs": [],
   "source": []
  },
  {
   "cell_type": "code",
   "execution_count": null,
   "id": "d37a9eac",
   "metadata": {},
   "outputs": [],
   "source": []
  },
  {
   "cell_type": "code",
   "execution_count": null,
   "id": "a15951fb",
   "metadata": {},
   "outputs": [],
   "source": []
  }
 ],
 "metadata": {
  "kernelspec": {
   "display_name": "Python 3 (ipykernel)",
   "language": "python",
   "name": "python3"
  },
  "language_info": {
   "codemirror_mode": {
    "name": "ipython",
    "version": 3
   },
   "file_extension": ".py",
   "mimetype": "text/x-python",
   "name": "python",
   "nbconvert_exporter": "python",
   "pygments_lexer": "ipython3",
   "version": "3.11.5"
  }
 },
 "nbformat": 4,
 "nbformat_minor": 5
}
